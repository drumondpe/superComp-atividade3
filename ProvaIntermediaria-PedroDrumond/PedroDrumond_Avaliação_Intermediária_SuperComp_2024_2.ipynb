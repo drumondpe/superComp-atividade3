{
  "cells": [
    {
      "cell_type": "markdown",
      "metadata": {
        "id": "YCrALvzjFdss"
      },
      "source": [
        "# Insper\n",
        "\n",
        "## Supercomputação - Avaliação Intermediária - 2º semestre de 2024\n",
        "\n",
        "#### SEU NOME: Pedro Gomes de Sá Drumond\n",
        "\n",
        "**Regras da prova**:\n",
        "\n",
        "SOBRE HORÁRIOS:\n",
        "- A prova estará liberada no Blackboard das 07h30 às 23h59 de 01/outubro/2024 (horário de Brasília);\n",
        "- A prova tem duração aproximada de 03 horas (180 minutos);\n",
        "- O aluno poderá realizar a prova ao longo do dia, no(s) horário(s) e espaço(s) de tempo que melhor lhe convier. Ao iniciar a prova você não precisará ficar 3 horas seguidas na sua realização;\n",
        "\n",
        "SOBRE DÚVIDAS:\n",
        "- O professor NÃO estará disponível fisicamente no Insper. O aluno que quiser tirar dúvidas, poderá fazê-lo via grupo de WhatsApp da prova. O link é: https://chat.whatsapp.com/IcnoFr2LkON1iYltj9SgDY\n",
        "\n",
        "SOBRE SUBMISSÕES DA PROVA E DO PROJETO:\n",
        "- A submissão da prova deve ser feita impreterivelmente até às 23h59 de 01/outubro/2024 (horário de Brasília). NÃO serão aceitas submissões após este horário;\n",
        "- O aluno poderá fazer múltiplas submissões da prova. O sistema considerará a última submissão como oficial;\n",
        "- A submissão da prova pode ser a resolução no jupyter notebook exportado no Colab ou ZIP com arquivos “.cpp” devidamente sinalizados (a qual questão se referenciam);\n",
        "\n",
        "SOBRE A RESOLUÇÃO DA PROVA:\n",
        "- A interpretação do enunciado faz parte da avaliação;\n",
        "- É permitida a consulta ao material da disciplina (tudo o que estiver no repositório do Github da disciplina e no site https://liciascl.github.io/supercomp/. Isso também inclui suas próprias soluções aos exercícios de sala de aula, mas não inclui materiais não digitais, tampouco outros materiais além dos citados;\n",
        "- É permitido consultar a documentação de C++ nos sites oficiais e links extras dos próprios enunciados;\n",
        "- Seu pseudocódigo deve ser feito em Português, incluindo nomes de variáveis e comentários;\n",
        "\n",
        "\n",
        "SOBRE QUESTÕES DE ÉTICA E PLÁGIO:\n",
        "- A prova é individual. Qualquer consulta a outras pessoas durante a prova constitui violação do código de ética do Insper;\n",
        "- Qualquer tentativa de fraude, como trechos idênticos ou muito similares, implicará em NOTA ZERO na prova a todos os envolvidos, sem prejuízo de outras sanções;\n",
        "- Uso de Copilot ou ChatGPT ou correlatos para resolução pode implicar trechos similares entre alunos, caindo no item acima. Cuidado!\n",
        "\n",
        "**_Boa prova!_**\n"
      ]
    },
    {
      "cell_type": "markdown",
      "metadata": {
        "id": "b9WD4WL9-TCc"
      },
      "source": [
        "# [2,0 pontos] Questão 01 - Problema do Subconjunto de Soma\n",
        "\n",
        "**Contexto:**\n",
        "\n",
        "O Problema do Subconjunto de Soma é um desafio clássico em ciência da computação e matemática, que se enquadra na categoria de problemas NP-Completo. Ele questiona se, dado um conjunto de números inteiros e um valor alvo, existe um subconjunto desses números cuja soma é igual ao valor alvo. Apesar de sua simplicidade conceitual, resolver este problema pode se tornar computacionalmente intensivo à medida que o tamanho do conjunto aumenta, tornando abordagens exaustivas impraticáveis para grandes conjuntos. Portanto, heurísticas e métodos aproximados se tornam ferramentas valiosas para encontrar soluções em tempo razoável.\n",
        "\n",
        "**Questão:**\n",
        "\n",
        "Considere um conjunto \\( S = \\{s_1, s_2, ..., s_n\\} \\) de números inteiros positivos e um valor alvo \\( T \\). Seu objetivo é desenvolver uma heurística para determinar se existe um subconjunto de \\( S \\) cuja soma é igual a \\( T \\). Sua solução não precisa ser ótima, mas deve ser capaz de encontrar uma resposta em um tempo razoável, mesmo para grandes valores de \\( n \\).\n",
        "\n",
        "Para atingir este objetivo, você deve implementar o seguinte algoritmo heurístico em C++:\n",
        "\n",
        "1. **Pré-processamento:** Ordene os números em \\( S \\) em ordem decrescente. Este passo visa a maximizar a eficiência da sua heurística, permitindo que grandes somas sejam alcançadas rapidamente, potencialmente aproximando-se de \\( T \\) mais rapidamente.\n",
        "\n",
        "2. **Heurística de Aproximação:** Implemente uma função que percorra os números em \\( S \\) na ordem definida. Para cada número \\( s_i \\), decida se deve ou não incluí-lo no subconjunto candidato com base em uma regra heurística simples.\n",
        "\n",
        "3. **Verificação e Saída:** Se, ao final do processo, a soma dos números no subconjunto candidato for igual a \\( T \\), sua função deve retornar `true`, indicando que uma solução foi encontrada. Caso contrário, retorne `false`.\n",
        "\n",
        "**Pede-se**:\n",
        "1. Implemente o algoritmo heurístico descrito acima em C++. (entregue o código)\n",
        "2. Faça cenários de teste e comprove a corretude da sua solução.  \n",
        "3. Discuta a eficácia da sua heurística. Em que cenários ela pode falhar em encontrar um subconjunto existente que some \\( T \\)? (entregue sua resposta justificada)\n",
        "\n",
        "\n",
        "**DICA**:\n",
        "\n",
        "Uma possível assinatura da sua função é:\n",
        "```cpp\n",
        "bool subsetSum(const vector<int>& set, int sum);\n",
        "```\n",
        "\n",
        "\n",
        "\n"
      ]
    },
    {
      "cell_type": "markdown",
      "metadata": {},
      "source": [
        "### 1."
      ]
    },
    {
      "cell_type": "markdown",
      "metadata": {},
      "source": [
        "```cpp\n",
        "#include <iostream>\n",
        "#include <vector>\n",
        "#include <algorithm>\n",
        "\n",
        "using namespace std;\n",
        "\n",
        "bool subconjuntoSoma(const vector<int>& conjunto, int alvo, vector<int>& subconjunto) {\n",
        "\n",
        "    int soma_atual = 0;\n",
        "    \n",
        "    // cópia do conjunto \n",
        "    vector<int> conjunto_ordenado = conjunto;\n",
        "    sort(conjunto_ordenado.rbegin(), conjunto_ordenado.rend()); // ordem decrescente\n",
        "\n",
        "    for (int numero : conjunto_ordenado) { // percorre\n",
        "\n",
        "        if (soma_atual + numero <= alvo) { // compara\n",
        "\n",
        "            soma_atual += numero; // se não exceder o alvo, inclui\n",
        "            subconjunto.push_back(numero);\n",
        "        }\n",
        "    \n",
        "        if (soma_atual == alvo) {\n",
        "\n",
        "            return true;\n",
        "        }\n",
        "    }\n",
        "\n",
        "    return false;\n",
        "}\n",
        "\n",
        "int main() {\n",
        "\n",
        "    vector<int> conjunto = {10, 20, 30, 40, 50, 60};\n",
        "    int alvo = 100;\n",
        "\n",
        "    vector<int> subconjunto;\n",
        "\n",
        "    if (subconjuntoSoma(conjunto, alvo, subconjunto)) {\n",
        "\n",
        "        cout << \"Existe um subconjunto! (\" << alvo << \").\" << endl;\n",
        "        cout << \"Números usados na soma: \";\n",
        "\n",
        "        for (int numero : subconjunto) {\n",
        "\n",
        "            cout << numero << \" \";\n",
        "        }\n",
        "\n",
        "        cout << endl;\n",
        "\n",
        "    } else {\n",
        "        \n",
        "        cout << \"Não existe um subconjunto!\" << endl;\n",
        "    }\n",
        "\n",
        "    return 0;\n",
        "}\n",
        "\n",
        "\n",
        "```"
      ]
    },
    {
      "cell_type": "markdown",
      "metadata": {},
      "source": [
        "### 2.\n",
        "\n",
        "Cenário 1 - Conjunto: {5, 10, 12, 13, 15, 18} Alvo: 30\n",
        "Subconjunto possível: {18, 12}\n",
        "Saída esperada: Existe um subconjunto cuja soma é igual ao alvo\n",
        "\n",
        "\n",
        "Cenário 2 - Conjunto: {10, 20, 30, 40, 50, 60} Alvo: 100\n",
        "Subconjunto possível: {60, 40}\n",
        "Saída esperada: Existe um subconjunto cuja soma é igual ao alvo\n",
        "\n",
        "\n",
        "Cenário 3 - Conjunto: {1, 3, 6, 7, 11, 18} Alvo: 5\n",
        "Subconjunto possível: nenhum\n",
        "Saída esperada: Não existe um subconjunto cuja soma seja igual ao alvo."
      ]
    },
    {
      "cell_type": "markdown",
      "metadata": {},
      "source": [
        "### 3.\n",
        "\n",
        "A heuristica resolve o problema de maneira rápida mas pode não ser perfeita. Ela funciona ordenadno os numeros em ordem decrescente, tentando incluir o maiores primeiro.\n",
        "\n",
        "Ela funcionou para os exemplos e não foi possível encontrar uma solução quando realmente não tinha uma solução possível no conjunto. Porém, pode ter faltado imaginação para pensar em outras possibilidades de conjuntos para que não acertasse o valor.\n",
        "\n",
        "Um erro que eu tinha pensado é quando a heuristica vai adicionando os maiores números e acabasse não tendo mais espaço, como no conjunto {1, 2, 4, 10} e T= 15, e por adicionar os maiores primeiro, pensei que ela faria 10+4+2 = 16 e aí não teria batido, mas eu tinha me esquecido que ela precisa avaliar antes de adicionar haha, aí ela funcionaria corretamente para esse caso.\n"
      ]
    },
    {
      "cell_type": "markdown",
      "metadata": {
        "id": "d9jNw4n4-TFd"
      },
      "source": [
        "# [2,0 pontos] Questão 02 - Solução Ótima\n",
        "\n",
        "A solução ótima do problema anterior é verificar todos os subconjuntos possíveis dos números de ( S ), calcular a soma de cada um deles e verificar se alguma destas soma é igual ao valor buscado. Essa solução, embora simples, pode não escalar bem para grandes entradas.\n",
        "\n",
        "\n",
        "**Pede-se**:\n",
        "1. Escreva o código da solução ótima em C++ (você pode usar recursão ou não)\n",
        ";\n",
        "2. Gere a solução para 10 entradas distintas em ordens de grandeza diferentes (algumas entradas pequenas, algumas médias, algumas grandes);\n",
        "3. Compare o tempo de execução deste código nas 10 entradas. O comportamento está alinhado com o esperado? Justifique.\n"
      ]
    },
    {
      "cell_type": "markdown",
      "metadata": {},
      "source": [
        "### 1.\n"
      ]
    },
    {
      "cell_type": "markdown",
      "metadata": {},
      "source": [
        "```cpp\n",
        "#include <iostream>\n",
        "#include <vector>\n",
        "#include <fstream>\n",
        "#include <chrono> \n",
        "\n",
        "using namespace std;\n",
        "using namespace std::chrono;\n",
        "\n",
        "bool subconjuntoSomaOtima(const vector<int>& conjunto, int n, int soma) {\n",
        "    \n",
        "    \n",
        "    if (soma == 0) {\n",
        "        return true;\n",
        "    }\n",
        "    \n",
        "    if (n == 0 || soma < 0) {\n",
        "        return false;\n",
        "    }\n",
        "    \n",
        "    // exclui o ultimo item e verifica se encontrou com ou sem ele\n",
        "    return subconjuntoSomaOtima(conjunto, n - 1, soma) || subconjuntoSomaOtima(conjunto, n - 1, soma - conjunto[n - 1]);\n",
        "}\n",
        "\n",
        "int main(int argc, char* argv[]) {\n",
        "\n",
        "    if (argc != 2) {\n",
        "\n",
        "        cout << \"Uso: \" << argv[0] << \" <arquivo de entrada>\" << endl;\n",
        "        return 1;\n",
        "    }\n",
        "\n",
        "    ifstream arquivo(argv[1]);\n",
        "\n",
        "    if (!arquivo) {\n",
        "\n",
        "        cout << \"Erro ao abrir\" << argv[1] << endl;\n",
        "        return 1;\n",
        "    }\n",
        "\n",
        "    // lendo o arquivo\n",
        "    int n, alvo;\n",
        "    arquivo >> n >> alvo;\n",
        "    vector<int> conjunto(n);\n",
        "    \n",
        "    for (int i = 0; i < n; ++i) {\n",
        "\n",
        "        arquivo >> conjunto[i];\n",
        "    }\n",
        "\n",
        "    arquivo.close();\n",
        "\n",
        "    // inicia medicao de tempo\n",
        "    auto inicio = high_resolution_clock::now();\n",
        "\n",
        "    // busca exaustiva \n",
        "    bool resultado = subconjuntoSomaOtima(conjunto, n, alvo);\n",
        "\n",
        "    // termina medicao de tempo\n",
        "    auto fim = high_resolution_clock::now();\n",
        "    auto duracao = duration_cast<microseconds>(fim - inicio);\n",
        "\n",
        "    if (resultado) {\n",
        "\n",
        "        cout << \"Existe um subconjunto cuja soma é \" << alvo << endl;\n",
        "    \n",
        "    } else {\n",
        "        \n",
        "        cout << \"Não existe um subconjunto cuja soma seja \" << alvo << endl;\n",
        "    }\n",
        "\n",
        "    cout << \"Tempo de execução: \" << duracao.count() << \" microssegundos\" << endl;\n",
        "\n",
        "    return 0;\n",
        "}\n",
        "\n",
        "```"
      ]
    },
    {
      "cell_type": "markdown",
      "metadata": {},
      "source": [
        "### 2."
      ]
    },
    {
      "cell_type": "markdown",
      "metadata": {},
      "source": [
        "- Para entrada PEQUENA 1: Existe um subconjunto cuja soma é 10 |\n",
        "Tempo de execução: 19 microssegundos (normal ser maior porque o pc ainda tá frio kk)\n",
        "\n",
        "- Para entrada PEQUENA 2: Existe um subconjunto cuja soma é 9 |\n",
        "Tempo de execução: 2 microssegundos\n",
        "\n",
        "- Para entrada PEQUENA 3: Existe um subconjunto cuja soma é 9 |\n",
        "Tempo de execução: 1 microssegundos\n",
        "\n",
        "- Para entrada MEDIA 1: Existe um subconjunto cuja soma é 30 |\n",
        "Tempo de execução: 1 microssegundos\n",
        "\n",
        "- Para entrada MEDIA 2: Existe um subconjunto cuja soma é 60 |\n",
        "Tempo de execução: 1 microssegundos\n",
        "\n",
        "- Para entrada MEDIA 3: Existe um subconjunto cuja soma é 75 |\n",
        "Tempo de execução: 2 microssegundos\n",
        "\n",
        "- Para entrada GRANDE 1: Existe um subconjunto cuja soma é 150 |\n",
        "Tempo de execução: 4089 microssegundos\n",
        "\n",
        "- Para entrada GRANDE 2: Existe um subconjunto cuja soma é 250 |\n",
        "Tempo de execução: 32 microssegundos\n",
        "\n",
        "- Para entrada GRANDE 3: Existe um subconjunto cuja soma é 400 |\n",
        "Tempo de execução: 26522 microssegundos\n",
        "\n",
        "- Para entrada GIGANTE: Existe um subconjunto cuja soma é 1000 |\n",
        "Tempo de execução: 28721 microssegundos\n",
        "\n"
      ]
    },
    {
      "cell_type": "markdown",
      "metadata": {},
      "source": [
        "### 3.\n",
        "\n",
        "Os tempos de execução estão alinhados com o algoritmo de solução exaustiva, principalmente por conta da complexidade exponencial associada ao problema. \n",
        "\n",
        "Para as entradas pequenas e médias o tempo foi bem rápido porque o espaço de busca é bem curto. No entando, conforme o tamanho do conjunto cresce para as entradas grandes e gigante, o número de subconjuntos potenciais cresce exponencialmente, e o tempo de execução aumenta bastante."
      ]
    },
    {
      "cell_type": "markdown",
      "metadata": {
        "id": "lxumkH8xhU0d"
      },
      "source": [
        "# [1,5 ponto] Questão 03 - Aleatorização\n",
        "\n",
        "Em sala de aula, nós implementamos diversas estratégias para a mochila\n",
        "binária. Explique a importância de buscar um balanço entre _exploration_ e _exploitation_. Dê um exemplo de como buscamos atingir _exploration_ e outro de como buscamos atingir _exploitation_ no Problema do Subconjunto de Soma. Elabore um pseudocódigo que combine tais estratégias e avalie criticamente sua efetividade."
      ]
    },
    {
      "cell_type": "markdown",
      "metadata": {},
      "source": [
        "Exploration e exploitation são duas abordagens importantes em algoritmos de otimização, como no Problema do Subconjunto de Soma. Exploration, é a parte que tenta explorar diferentes caminhos e opções no espaço de busca. Isso é útil para evitar que o algoritmo fique preso em uma solução local subótima, sem perceber que há uma solução melhor em outra parte do espaço de busca. Já o exploitation foca em refinar as soluções que já parecem boas, aproveitando o que o algoritmo já descobriu de positivo até o momento."
      ]
    },
    {
      "cell_type": "markdown",
      "metadata": {},
      "source": [
        "- Exploration: \n",
        "\n",
        "Um exemplo de exploration seria testar embaralhar o conjunto de entrada antes de tentar formar os subconjuntos. Assim, mesmo que o algoritmo não tenha sucesso em uma tentativa, ele ainda tem a chance de explorar outros caminhos e combinações que podem ser melhores.\n",
        "\n",
        "- Exploitation:\n",
        "\n",
        "Um exemplo para exploitation seira o algoritmo incluir primeiro os maiores números que cabem no alvo ou aqueles que estão mais próximos de atingir a soma. Isso aproveita o conhecimento adquirido durante a execução e tenta melhorar incrementalmente a soma total, se aproximando cada vez mais do valor alvo."
      ]
    },
    {
      "cell_type": "markdown",
      "metadata": {},
      "source": [
        "```cpp\n",
        "Função subconjuntoSomaHeuristica(conjunto, T, max_tentativas):\n",
        "\n",
        "    melhor_subconjunto = []\n",
        "    melhor_soma = 0\n",
        "    \n",
        "    Para i de 1 até max_tentativas:\n",
        "        subconjunto_i = []\n",
        "        soma_atual = 0\n",
        "        \n",
        "        conjunto_aleatorio = embaralhar(conjunto)\n",
        "\n",
        "        Para cada numero em conjunto_aleatorio:\n",
        "\n",
        "            Se soma_atual + numero <= T:\n",
        "\n",
        "                subconjunto_i.incluir(numero)\n",
        "                soma_atual = soma_atual + numero\n",
        "            \n",
        "            Se soma_atual == T:\n",
        "\n",
        "                retornar subconjunto_i // Encontrou a solução ótima\n",
        "\n",
        "        Se soma_atual > melhor_soma:\n",
        "        \n",
        "            melhor_soma = soma_atual\n",
        "            melhor_subconjunto = subconjunto_i\n",
        "\n",
        "    retornar melhor_subconjunto\n",
        "```"
      ]
    },
    {
      "cell_type": "markdown",
      "metadata": {
        "id": "hP79VcwHNsOu"
      },
      "source": [
        "# [2,0  pontos] Questão 04 - GPU e Thrust\n",
        "\n",
        "1.\tAcesse o link abaixo e faça uma cópia no seu Google Drive: https://colab.research.google.com/drive/14_EZNglXn2VXe3kpDW3XgEsRkB6R1jjp?usp=sharing\n",
        "2.\tComplete o código seguindo a especificação. ATENÇÃO: você provavelmente precisará complementar os imports para o código rodar!\n",
        "3.\tBaixe sua cópia do notebook preenchido e executado, e disponibilize junto com sua solução.\n",
        "\n",
        "_OBSERVAÇÃO_: recomendo o uso do Colab na realização da questão de GPU. Use implementação e teste local por conta e risco. =)\n"
      ]
    },
    {
      "cell_type": "code",
      "execution_count": null,
      "metadata": {
        "id": "y9hkglWLOacA"
      },
      "outputs": [],
      "source": []
    },
    {
      "cell_type": "code",
      "execution_count": null,
      "metadata": {
        "id": "kY7eeO48OaiI"
      },
      "outputs": [],
      "source": []
    },
    {
      "cell_type": "code",
      "execution_count": null,
      "metadata": {
        "id": "9bCumk5fOaoB"
      },
      "outputs": [],
      "source": []
    },
    {
      "cell_type": "markdown",
      "metadata": {
        "id": "Qa7y2wJn-zXz"
      },
      "source": [
        "# [1,5 pontos] Questão 05 - Busca global\n",
        "\n",
        "Um algoritmo de busca global, em termos gerais, é um algoritmo de otimização que procura encontrar a melhor solução possível para um problema dentro de um espaço de busca, considerando todas as possíveis soluções. Em outras palavras, ele tenta encontrar o máximo ou mínimo global de uma função objetivo em um domínio especificado.\n",
        "\n",
        "Em alguns problemas a \"busca global\" não se trata de uma otimização, mas de encontrar a única resposta correta possível. Por exemplo, o cálculo de Fibonacci é algoritmo que dado um número `N`, o `fib(N)` assume apenas um valor correto.\n",
        "\n",
        "Observe o código abaixo para cálculo do Fibonacci. Altere o programa para receber `N` como uma entrada, e rode o programa para alguns valores de N, tanto pequenos (abaixo de 30) quanto grandes (acima de 30 --- só não exagere!), comparando os tempos de execução.  \n",
        "\n",
        "Código-fonte:\n",
        "\n",
        "```cpp\n",
        "#include <iostream>\n",
        "\n",
        "int fib(int n) {\n",
        "    if (n <= 1) {\n",
        "        return n;\n",
        "    } else {\n",
        "        return fib(n - 1) + fib(n - 2);\n",
        "    }\n",
        "}\n",
        "\n",
        "int main() {\n",
        "    int n = 30; // Valor de n para calcular Fibonacci\n",
        "    int result = fib(n);\n",
        "    std::cout << \"Fibonacci de \" << n << \" é \" << result << std::endl;\n",
        "    return 0;\n",
        "}\n",
        "```\n",
        "\n",
        "Note que tempo de execução para esta implementação aumenta consideravelmente quando `N` cresce.\n",
        "\n",
        "**Pede-se**: Implemente  uma otimização para esse algoritmo de modo que sua implementação seja pela abordagem de memorização (*memoization*), ou seja, salvar cálculos já realizados para reaproveitá-los. Apresente código-fonte, resultados e compare os resultados de tempo de execução obtidos."
      ]
    },
    {
      "cell_type": "markdown",
      "metadata": {},
      "source": [
        "```cpp\n",
        "#include <iostream>\n",
        "#include <vector>\n",
        "#include <chrono> \n",
        "\n",
        "\n",
        "int fib(int n, std::vector<int>& memo) {\n",
        "\n",
        "    if (n <= 1) {\n",
        "\n",
        "        return n; \n",
        "    }\n",
        "\n",
        "    if (memo[n] != -1) {\n",
        "\n",
        "        return memo[n];\n",
        "    }\n",
        "\n",
        "    // calcula e armazena p/ usar dps\n",
        "    memo[n] = fib(n - 1, memo) + fib(n - 2, memo);\n",
        "    return memo[n];\n",
        "}\n",
        "\n",
        "int main() {\n",
        "    \n",
        "    int n;\n",
        "\n",
        "    std::cout << \"Digite o valor de N: \";\n",
        "    std::cin >> n;\n",
        "    std::vector<int> memo(n + 1, -1);\n",
        "\n",
        "    auto start = std::chrono::high_resolution_clock::now();\n",
        "\n",
        "    int resultado = fib(n, memo);\n",
        "\n",
        "    auto end = std::chrono::high_resolution_clock::now();\n",
        "    \n",
        "    std::chrono::duration<double> duration = end - start;\n",
        "\n",
        "    std::cout << \"Fibonacci de \" << n << \" é \" << resultado << std::endl;\n",
        "    std::cout << \"Tempo de execução: \" << duration.count() << \" segundos\" << std::endl;\n",
        "\n",
        "\n",
        "    return 0;\n",
        "}\n",
        "\n",
        "```\n"
      ]
    },
    {
      "cell_type": "markdown",
      "metadata": {},
      "source": [
        "- Fibonacci:\n",
        "\n",
        "Fibonacci de 10 é 55\n",
        "Tempo de execução: 0.003705 ms\n",
        "\n",
        "Fibonacci de 15 é 610\n",
        "Tempo de execução: 0.009092 ms\n",
        "\n",
        "Fibonacci de 20 é 6765\n",
        "Tempo de execução: 0.257108 ms\n",
        "\n",
        "Fibonacci de 30 é 832040\n",
        "Tempo de execução: 25.4481 ms\n",
        "\n",
        "Fibonacci de 40 é 102334155\n",
        "Tempo de execução: 788.879 ms\n",
        "\n",
        "\n",
        "\n",
        "- Fibonacci_memorizacao:\n",
        "\n",
        "Fibonacci de 10 é 55\n",
        "Tempo de execução: 2.386e-06 segundos\n",
        "\n",
        "Fibonacci de 15 é 610\n",
        "Tempo de execução: 2.079e-06 segundos\n",
        "\n",
        "Fibonacci de 20 é 6765\n",
        "Tempo de execução: 3.88e-06 segundos\n",
        "\n",
        "Fibonacci de 30 é 832040\n",
        "Tempo de execução: 2.808e-06 segundos\n",
        "\n",
        "Fibonacci de 40 é 102334155\n",
        "Tempo de execução: 3.621e-06 segundos"
      ]
    },
    {
      "cell_type": "markdown",
      "metadata": {},
      "source": [
        "- Fibonacci:\n",
        "    - O tempo de execução cresce exponencialmente conforme o valor de N aumenta\n",
        "\n",
        "- Fibonacci com mem:\n",
        "    - Com memorização, o tempo de execução fica bem baixo, porque ao memorizar os resultados, o algoritmo evita cálculos repetidos, melhorando muito a efiiência do código"
      ]
    },
    {
      "cell_type": "markdown",
      "metadata": {
        "id": "k7bbxYasZHhF"
      },
      "source": [
        "# [1.0 ponto] Questão 06 - Uso de Cluster em Supercomputação\n",
        "\n",
        "Esta disciplina estuda estratégias para resolver problemas complexos em tempo computacionalmente razoável.\n",
        "\n",
        "**Pede-se**:\n",
        "1. Qual é a importância de aliar estratégias de implementação (Software) com recursos computacionais disponíveis (Hardware) para melhor endereçamento do problema?\n",
        "2. Defina o que é Slurm e sua importância na programação paralela em larga escala.\n",
        "3. Considerando o job configurado pelo \".slurm\" abaixo, descreva quais recursos computacionais estão sendo solicitados ao Cluster, as limitações e condições de execução.\n",
        "\n",
        "```\n",
        "#!/bin/bash\n",
        "#SBATCH --job-name=job_paralelo\n",
        "#SBATCH --nodes=4\n",
        "#SBATCH --ntasks-per-node=8\n",
        "#SBATCH --time=02:00:00\n",
        "#SBATCH --partition=compute\n",
        "#SBATCH --output=resultado.out\n",
        "#SBATCH --error=erro.err\n",
        "\n",
        "# Carregar módulos necessários\n",
        "module load mpi\n",
        "\n",
        "# Executar o programa paralelo\n",
        "mpirun -np 32 ./meu_programa_paralelo\n",
        "```\n",
        "\n"
      ]
    },
    {
      "cell_type": "markdown",
      "metadata": {},
      "source": [
        "### 1.\n",
        "\n",
        "Combinar estratégias de software com recursos de hardware é importante para resolver problemas de forma mais eficiente. Isso porque o hardware, pode ajudar a processar grandes volumes de dados ou realizar cálculos mais complexos mais rápido. Por outro lado, se o software não for bem otimizado, ele pode desperdiçar os recursos disponíveis. Por exemplo, um algoritmo bem otimizado que aproveita o processamento em parelelo, vai usar o hardware de forma mais eficiente."
      ]
    },
    {
      "cell_type": "markdown",
      "metadata": {},
      "source": [
        "### 2.\n",
        "\n",
        "Slurm é um sistema de gerenciamento de filas, usado em clusters. Ele ajuda a organizar e distribuir o uso dos recursos de hardware entre diferentes usuários. Basicamente, quando você quer rodar um programa em um supercomputador, você usa o Slurm para pedir uma \"fila\" de execução, dizendo quantos núcleos de processamento e quanto tempo você vai precisar. Assim, o Slurm cuida de distribuir o programa nos recursos disponíveis."
      ]
    },
    {
      "cell_type": "markdown",
      "metadata": {},
      "source": [
        "### 3.\n",
        "\n",
        "O arquivo configura um job que irá usar 4 nós com 8 tarefas em cada (sendo 32 processos no total), por até 2 horas."
      ]
    }
  ],
  "metadata": {
    "colab": {
      "provenance": []
    },
    "kernelspec": {
      "display_name": "Python 3",
      "name": "python3"
    },
    "language_info": {
      "name": "python"
    }
  },
  "nbformat": 4,
  "nbformat_minor": 0
}
