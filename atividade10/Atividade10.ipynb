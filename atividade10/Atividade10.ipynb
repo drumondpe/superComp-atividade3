{
  "nbformat": 4,
  "nbformat_minor": 0,
  "metadata": {
    "colab": {
      "provenance": [],
      "gpuType": "T4"
    },
    "kernelspec": {
      "name": "python3",
      "display_name": "Python 3"
    },
    "language_info": {
      "name": "python"
    },
    "accelerator": "GPU"
  },
  "cells": [
    {
      "cell_type": "code",
      "execution_count": 35,
      "metadata": {
        "colab": {
          "base_uri": "https://localhost:8080/"
        },
        "id": "TaLS0lrOf9UL",
        "outputId": "d19aefaa-69b8-4e83-c44a-9f87e4e8291d"
      },
      "outputs": [
        {
          "output_type": "stream",
          "name": "stdout",
          "text": [
            "Fri Sep 13 13:37:41 2024       \n",
            "+---------------------------------------------------------------------------------------+\n",
            "| NVIDIA-SMI 535.104.05             Driver Version: 535.104.05   CUDA Version: 12.2     |\n",
            "|-----------------------------------------+----------------------+----------------------+\n",
            "| GPU  Name                 Persistence-M | Bus-Id        Disp.A | Volatile Uncorr. ECC |\n",
            "| Fan  Temp   Perf          Pwr:Usage/Cap |         Memory-Usage | GPU-Util  Compute M. |\n",
            "|                                         |                      |               MIG M. |\n",
            "|=========================================+======================+======================|\n",
            "|   0  Tesla T4                       Off | 00000000:00:04.0 Off |                    0 |\n",
            "| N/A   42C    P8               9W /  70W |      0MiB / 15360MiB |      0%      Default |\n",
            "|                                         |                      |                  N/A |\n",
            "+-----------------------------------------+----------------------+----------------------+\n",
            "                                                                                         \n",
            "+---------------------------------------------------------------------------------------+\n",
            "| Processes:                                                                            |\n",
            "|  GPU   GI   CI        PID   Type   Process name                            GPU Memory |\n",
            "|        ID   ID                                                             Usage      |\n",
            "|=======================================================================================|\n",
            "|  No running processes found                                                           |\n",
            "+---------------------------------------------------------------------------------------+\n"
          ]
        }
      ],
      "source": [
        "!nvidia-smi\n"
      ]
    },
    {
      "cell_type": "markdown",
      "source": [
        "### Compilação com NVCC\n"
      ],
      "metadata": {
        "id": "x213A1X0jrKz"
      }
    },
    {
      "cell_type": "code",
      "source": [
        "%%writefile exemplo1.cu\n",
        "#include <thrust/device_vector.h> // Inclui a biblioteca para vetores na GPU (device)\n",
        "#include <thrust/host_vector.h>   // Inclui a biblioteca para vetores na CPU (host)\n",
        "#include <iostream>               // Biblioteca padrão para entrada e saída de dados\n",
        "\n",
        "int main() {\n",
        "    // Cria um vetor na CPU (host) com 5 elementos, todos inicializados com 0\n",
        "    thrust::host_vector<double> host(5, 0);\n",
        "    host[4] = 35; // Altera o último elemento do vetor para 35\n",
        "\n",
        "    /* Os dados do vetor 'host' são copiados para a GPU,\n",
        "       criando um vetor equivalente na GPU (device) */\n",
        "    thrust::device_vector<double> dev(host);\n",
        "\n",
        "    /* Altera o vetor na CPU, mas não afeta o vetor na GPU,\n",
        "       pois a cópia já foi feita anteriormente */\n",
        "    host[2] = 12; // Altera o terceiro elemento do vetor na CPU para 12\n",
        "\n",
        "    // Exibe os elementos do vetor na CPU\n",
        "    printf(\"Host vector: \");\n",
        "    for (auto i = host.begin(); i != host.end(); i++) {\n",
        "        std::cout << *i << \" \"; // Acesso rápido aos elementos na CPU\n",
        "    }\n",
        "    printf(\"\\n\");\n",
        "\n",
        "    // Exibe os elementos do vetor na GPU\n",
        "    printf(\"Device vector: \");\n",
        "    for (auto i = dev.begin(); i != dev.end(); i++) {\n",
        "        std::cout << *i << \" \"; // Acesso aos elementos na GPU é lento, pois os dados estão na GPU\n",
        "    }\n",
        "    printf(\"\\n\");\n",
        "}"
      ],
      "metadata": {
        "colab": {
          "base_uri": "https://localhost:8080/"
        },
        "id": "IVyscDpBgGcD",
        "outputId": "cc37646a-414b-415b-965c-ba500a849668"
      },
      "execution_count": 36,
      "outputs": [
        {
          "output_type": "stream",
          "name": "stdout",
          "text": [
            "Overwriting exemplo1.cu\n"
          ]
        }
      ]
    },
    {
      "cell_type": "code",
      "source": [
        "!nvcc -arch=sm_75 -std=c++14 exemplo1.cu -o exemplo1"
      ],
      "metadata": {
        "id": "tUKDbIs8hkcJ"
      },
      "execution_count": 37,
      "outputs": []
    },
    {
      "cell_type": "code",
      "source": [
        "!./exemplo1"
      ],
      "metadata": {
        "colab": {
          "base_uri": "https://localhost:8080/"
        },
        "id": "6IeLD8eqhpRB",
        "outputId": "b57cd676-1e85-4959-b9a0-4e9970b043ae"
      },
      "execution_count": 38,
      "outputs": [
        {
          "output_type": "stream",
          "name": "stdout",
          "text": [
            "Host vector: 0 0 12 0 35 \n",
            "Device vector: 0 0 0 0 35 \n"
          ]
        }
      ]
    },
    {
      "cell_type": "markdown",
      "source": [
        "### Transformações e Operações Matemáticas com Vetores na GPU\n"
      ],
      "metadata": {
        "id": "WqSs6MNrjoPl"
      }
    },
    {
      "cell_type": "code",
      "source": [
        "%%writefile exemplo2.cu\n",
        "#include <thrust/device_vector.h>              // Inclui a biblioteca para vetores na GPU\n",
        "#include <thrust/host_vector.h>                // Inclui a biblioteca para vetores na CPU\n",
        "#include <thrust/sequence.h>                   // Inclui a função para preencher vetores com uma sequência de números\n",
        "#include <thrust/functional.h>                 // Inclui operações matemáticas padrão, como soma e multiplicação\n",
        "#include <thrust/transform.h>                  // Inclui a função para transformar vetores com operações ponto a ponto\n",
        "#include <thrust/iterator/constant_iterator.h> // Inclui o iterador constante necessário\n",
        "#include <iostream>\n",
        "\n",
        "int main() {\n",
        "    // Cria um vetor na GPU (device_vector) com 10 elementos, todos inicializados com 0\n",
        "    thrust::device_vector<double> V1(10, 0);\n",
        "    // Preenche V1 com uma sequência de números: {0, 1, 2, ..., 9}\n",
        "    thrust::sequence(V1.begin(), V1.end());\n",
        "\n",
        "    // Cria um vetor na GPU com 5 elementos, todos inicializados com 0\n",
        "    thrust::device_vector<double> V2(5, 0);\n",
        "    // Preenche os dois primeiros elementos de V2 com 5.5: {5.5, 5.5, 0, 0, 0}\n",
        "    thrust::fill(V2.begin(), V2.begin() + 2, 5.5);\n",
        "    // Preenche os elementos restantes de V2 com 10: {5.5, 5.5, 10, 10, 10}\n",
        "    thrust::fill(V2.begin() + 2, V2.end(), 10);\n",
        "\n",
        "    // Cria dois vetores na GPU com 10 elementos, para armazenar resultados das operações\n",
        "    thrust::device_vector<double> V3(10); // Vetor para armazenar o resultado da soma\n",
        "    thrust::device_vector<double> V4(10); // Vetor para armazenar o resultado da multiplicação\n",
        "\n",
        "    // Aplica a operação de soma elemento por elemento entre V1 e V2 e armazena o resultado em V3\n",
        "    // Como V2 tem menos elementos, o restante de V1 é somado com zeros (elemento padrão).\n",
        "    // Resultado: V3 = {0+5.5, 1+5.5, 2+10, 3+10, 4+10, 5+0, ..., 9+0}\n",
        "    thrust::transform(V1.begin(), V1.end(), V2.begin(), V3.begin(), thrust::plus<double>());\n",
        "\n",
        "    // Aplica multiplicação de V1 com o valor constante 0.5\n",
        "    // e armazenaria o resultado em V4.\n",
        "    thrust::transform(V1.begin(), V1.end(), thrust::constant_iterator<double>(0.5), V4.begin(), thrust::multiplies<double>());\n",
        "\n",
        "    // Imprime os elementos de V1\n",
        "    printf(\"V1: \");\n",
        "    for (thrust::device_vector<double>::iterator i = V1.begin(); i != V1.end(); i++) {\n",
        "        std::cout << *i << \" \"; // Acessa e imprime cada elemento do vetor V1\n",
        "    }\n",
        "    printf(\"\\n\");\n",
        "\n",
        "    // Imprime os elementos de V2\n",
        "    printf(\"V2: \");\n",
        "    for (thrust::device_vector<double>::iterator i = V2.begin(); i != V2.end(); i++) {\n",
        "        std::cout << *i << \" \"; // Acessa e imprime cada elemento do vetor V2\n",
        "    }\n",
        "    printf(\"\\n\");\n",
        "\n",
        "    // Imprime os elementos de V3\n",
        "    printf(\"V3: \");\n",
        "    for (thrust::device_vector<double>::iterator i = V3.begin(); i != V3.end(); i++) {\n",
        "        std::cout << *i << \" \"; // Acessa e imprime cada elemento do vetor V3\n",
        "    }\n",
        "    printf(\"\\n\");\n",
        "\n",
        "    // Imprime o vetor V4, que foi criado mas não utilizado.\n",
        "     printf(\"V4: \");\n",
        "    for (thrust::device_vector<double>::iterator i = V4.begin(); i != V4.end(); i++) {\n",
        "         std::cout << *i << \" \";\n",
        "    }\n",
        "    printf(\"\\n\");\n",
        "\n",
        "    return 0;\n",
        "}"
      ],
      "metadata": {
        "colab": {
          "base_uri": "https://localhost:8080/"
        },
        "id": "kiAzVXJwhws4",
        "outputId": "c17ac9df-301f-4c6e-c1fc-8d4ef334a560"
      },
      "execution_count": 39,
      "outputs": [
        {
          "output_type": "stream",
          "name": "stdout",
          "text": [
            "Overwriting exemplo2.cu\n"
          ]
        }
      ]
    },
    {
      "cell_type": "code",
      "source": [
        "!nvcc -arch=sm_75 -std=c++14 exemplo2.cu -o exemplo2"
      ],
      "metadata": {
        "id": "WWwsaVoYilVN"
      },
      "execution_count": 40,
      "outputs": []
    },
    {
      "cell_type": "code",
      "source": [
        "!./exemplo2\n"
      ],
      "metadata": {
        "colab": {
          "base_uri": "https://localhost:8080/"
        },
        "id": "labkSvIVkdeA",
        "outputId": "7810921a-8b61-48e1-89e4-926190b46bf7"
      },
      "execution_count": 41,
      "outputs": [
        {
          "output_type": "stream",
          "name": "stdout",
          "text": [
            "V1: 0 1 2 3 4 5 6 7 8 9 \n",
            "V2: 5.5 5.5 10 10 10 \n",
            "V3: 5.5 6.5 12 13 14 5 6 7 8 9 \n",
            "V4: 0 0.5 1 1.5 2 2.5 3 3.5 4 4.5 \n"
          ]
        }
      ]
    },
    {
      "cell_type": "markdown",
      "source": [
        "### Leitura de arquivos pela GPU\n"
      ],
      "metadata": {
        "id": "__0-itLLlBGk"
      }
    },
    {
      "cell_type": "code",
      "source": [
        "%%writefile stocks.cu\n",
        "#include <thrust/device_vector.h>   // Inclui a biblioteca Thrust para vetores na GPU\n",
        "#include <thrust/host_vector.h>     // Inclui a biblioteca Thrust para vetores na CPU\n",
        "#include <iostream>                 // Biblioteca padrão para entrada e saída de dados\n",
        "#include <chrono>                   // Biblioteca para medir o tempo de execução do código\n",
        "using namespace std;\n",
        "\n",
        "int main() {\n",
        "    int n = 2518;                   // Define o tamanho do vetor (2518 elementos)\n",
        "    double value = 0.0;             // Variável auxiliar para armazenar o valor lido da entrada\n",
        "    std::chrono::duration<double> diff; // Variável para armazenar a diferença de tempo calculada\n",
        "\n",
        "    // Marca o início da medição do tempo de leitura dos dados\n",
        "    auto leitura_i = std::chrono::steady_clock::now();\n",
        "\n",
        "    // Cria um vetor na CPU (host_vector) com n elementos, todos inicializados com 0\n",
        "    thrust::host_vector<double> host(n, 0);\n",
        "\n",
        "    // Loop para ler n valores da entrada padrão e armazená-los no vetor host\n",
        "    for (int i = 0; i < n; i++) {\n",
        "        cin >> value;              // Lê um valor da entrada padrão\n",
        "        host[i] = value;           // Armazena o valor lido no vetor host\n",
        "    }\n",
        "\n",
        "    // Marca o fim da medição do tempo de leitura dos dados\n",
        "    auto leitura_f = std::chrono::steady_clock::now();\n",
        "\n",
        "    // Calcula o tempo gasto na leitura dos dados\n",
        "    diff = leitura_f - leitura_i;\n",
        "\n",
        "    // Exibe o tempo de leitura em segundos\n",
        "    cout << \"Tempo de LEITURA (em segundos)  \" << diff.count() << endl;\n",
        "\n",
        "    // Marca o início da medição do tempo de cópia dos dados da CPU para a GPU\n",
        "    auto copia_i = std::chrono::steady_clock::now();\n",
        "\n",
        "    // Cria um vetor na GPU (device_vector) copiando os dados do vetor host da CPU\n",
        "    thrust::device_vector<double> dev(host);\n",
        "\n",
        "    // Marca o fim da medição do tempo de cópia dos dados\n",
        "    auto copia_f = std::chrono::steady_clock::now();\n",
        "\n",
        "    // Calcula o tempo gasto na cópia dos dados para a GPU\n",
        "    diff = copia_f - copia_i;\n",
        "\n",
        "    // Exibe o tempo de cópia em segundos\n",
        "    cout << \"Tempo de CÓPIA (em segundos)  \" << diff.count() << endl;\n",
        "\n",
        "    return 0;\n",
        "}\n"
      ],
      "metadata": {
        "colab": {
          "base_uri": "https://localhost:8080/"
        },
        "id": "LGvHfTQqkf-M",
        "outputId": "6e0dbd1d-4d2b-4566-d170-eaa57c71a412"
      },
      "execution_count": 42,
      "outputs": [
        {
          "output_type": "stream",
          "name": "stdout",
          "text": [
            "Overwriting stocks.cu\n"
          ]
        }
      ]
    },
    {
      "cell_type": "code",
      "source": [
        "!nvcc -arch=sm_70 -std=c++14 stocks.cu -o stocks"
      ],
      "metadata": {
        "id": "zLXXy6ZQlEk3"
      },
      "execution_count": 43,
      "outputs": []
    },
    {
      "cell_type": "code",
      "source": [
        "!./stocks < stocks-google.txt\n"
      ],
      "metadata": {
        "id": "YewnfXBVlPe1",
        "outputId": "8d01a29a-965b-49b4-dcc5-df90901baaa7",
        "colab": {
          "base_uri": "https://localhost:8080/"
        }
      },
      "execution_count": 44,
      "outputs": [
        {
          "output_type": "stream",
          "name": "stdout",
          "text": [
            "Tempo de LEITURA (em segundos)  0.000575256\n",
            "Tempo de CÓPIA (em segundos)  0.224632\n"
          ]
        }
      ]
    },
    {
      "cell_type": "markdown",
      "source": [
        "## Exercício 1: Leitura e Transferência de Dados"
      ],
      "metadata": {
        "id": "98fsfw9roDna"
      }
    },
    {
      "cell_type": "code",
      "source": [
        "%%writefile exercicio1.cu\n",
        "#include <thrust/device_vector.h>\n",
        "#include <thrust/host_vector.h>\n",
        "#include <iostream>\n",
        "#include <chrono>\n",
        "#include <fstream>  // Para salvar os dados lidos\n",
        "using namespace std;\n",
        "\n",
        "int main() {\n",
        "    int n = 2518;  // Ajuste o número de elementos conforme o arquivo real\n",
        "    double value = 0.0;\n",
        "    std::chrono::duration<double> diff;\n",
        "\n",
        "    // Medir o tempo de leitura dos dados no host\n",
        "    auto leitura_i = std::chrono::steady_clock::now();\n",
        "\n",
        "    // Criar um vetor na CPU (host_vector) e ler os valores do arquivo\n",
        "    thrust::host_vector<double> host(n, 0);\n",
        "    for (int i = 0; i < n; i++) {\n",
        "        cin >> value;  // Ler o valor da entrada padrão (ou arquivo)\n",
        "        host[i] = value;\n",
        "    }\n",
        "\n",
        "    auto leitura_f = std::chrono::steady_clock::now();\n",
        "    diff = leitura_f - leitura_i;\n",
        "    cout << \"Tempo de LEITURA (em segundos): \" << diff.count() << endl;\n",
        "\n",
        "    // Salvar os dados lidos para uso posterior\n",
        "    ofstream outfile(\"dados.bin\", ios::binary);\n",
        "    outfile.write(reinterpret_cast<char*>(host.data()), n * sizeof(double));\n",
        "    outfile.close();\n",
        "\n",
        "    // Medir o tempo de cópia dos dados para a GPU\n",
        "    auto copia_i = std::chrono::steady_clock::now();\n",
        "\n",
        "    // Criar um vetor na GPU (device_vector) e copiar os dados do host para ele\n",
        "    thrust::device_vector<double> dev(host);\n",
        "\n",
        "    auto copia_f = std::chrono::steady_clock::now();\n",
        "    diff = copia_f - copia_i;\n",
        "    cout << \"Tempo de CÓPIA para a GPU (em segundos): \" << diff.count() << endl;\n",
        "\n",
        "    return 0;\n",
        "}\n"
      ],
      "metadata": {
        "colab": {
          "base_uri": "https://localhost:8080/"
        },
        "id": "dMdM2EOSobzh",
        "outputId": "e09e565d-e21f-463b-8797-51ea18fcad50"
      },
      "execution_count": 59,
      "outputs": [
        {
          "output_type": "stream",
          "name": "stdout",
          "text": [
            "Overwriting exercicio1.cu\n"
          ]
        }
      ]
    },
    {
      "cell_type": "code",
      "source": [
        "!nvcc -arch=sm_75 -std=c++14 exercicio1.cu -o exercicio1"
      ],
      "metadata": {
        "id": "T3okiMbeuHp5"
      },
      "execution_count": 60,
      "outputs": []
    },
    {
      "cell_type": "code",
      "source": [
        "!./exercicio1 < stocks-google.txt"
      ],
      "metadata": {
        "colab": {
          "base_uri": "https://localhost:8080/"
        },
        "id": "0SbZlMNouKu-",
        "outputId": "8c3e4dcc-17b2-43f1-ecc7-4252c75f5bbe"
      },
      "execution_count": 61,
      "outputs": [
        {
          "output_type": "stream",
          "name": "stdout",
          "text": [
            "Tempo de LEITURA (em segundos): 0.00055173\n",
            "Tempo de CÓPIA para a GPU (em segundos): 0.189592\n"
          ]
        }
      ]
    },
    {
      "cell_type": "markdown",
      "source": [
        "### Exercício 2: Cálculo de Médias e Extremos\n",
        "\n"
      ],
      "metadata": {
        "id": "8M-ePn5JuV_J"
      }
    },
    {
      "cell_type": "code",
      "source": [
        "%%writefile exercicio2.cu\n",
        "#include <thrust/device_vector.h>\n",
        "#include <thrust/host_vector.h>\n",
        "#include <thrust/reduce.h>\n",
        "#include <thrust/extrema.h>\n",
        "#include <iostream>\n",
        "#include <fstream>\n",
        "\n",
        "int main() {\n",
        "    thrust::host_vector<float> h_stock_prices;\n",
        "\n",
        "    // Abrir o arquivo stocks-google.txt\n",
        "    std::ifstream file(\"/content/stocks-google.txt\");\n",
        "    if (file.is_open()) {\n",
        "        float price;\n",
        "        // Ler os preços do arquivo e armazenar no host_vector\n",
        "        while (file >> price) {\n",
        "            h_stock_prices.push_back(price);\n",
        "        }\n",
        "        file.close();\n",
        "    }\n",
        "\n",
        "    // Transferir os dados para a GPU (device_vector)\n",
        "    thrust::device_vector<float> d_stock_prices = h_stock_prices;\n",
        "\n",
        "    // Cálculo da média do período total (últimos 10 anos)\n",
        "    float sum_total = thrust::reduce(d_stock_prices.begin(), d_stock_prices.end(), 0.0f);\n",
        "    float average_total = sum_total / d_stock_prices.size();\n",
        "\n",
        "    // Cálculo da média dos últimos 365 dias\n",
        "    int days_in_year = 365;\n",
        "    int start_index = d_stock_prices.size() - days_in_year;  // Índice de início dos últimos 365 dias\n",
        "    if (start_index < 0) start_index = 0;  // Certificar que não acessamos fora do vetor\n",
        "\n",
        "    float sum_last_year = thrust::reduce(d_stock_prices.begin() + start_index, d_stock_prices.end(), 0.0f);\n",
        "    float average_last_year = sum_last_year / (d_stock_prices.end() - d_stock_prices.begin() - start_index);\n",
        "\n",
        "    // Encontrar o maior e o menor preço no período total\n",
        "    auto minmax_total = thrust::minmax_element(d_stock_prices.begin(), d_stock_prices.end());\n",
        "    float min_total = *minmax_total.first;\n",
        "    float max_total = *minmax_total.second;\n",
        "\n",
        "    // Encontrar o maior e o menor preço nos últimos 365 dias\n",
        "    auto minmax_last_year = thrust::minmax_element(d_stock_prices.begin() + start_index, d_stock_prices.end());\n",
        "    float min_last_year = *minmax_last_year.first;\n",
        "    float max_last_year = *minmax_last_year.second;\n",
        "\n",
        "    // Exibir os resultados\n",
        "    std::cout << \"Preço médio total: \" << average_total << std::endl;\n",
        "    std::cout << \"Preço médio nos últimos 365 dias: \" << average_last_year << std::endl;\n",
        "    std::cout << \"Maior preço total: \" << max_total << std::endl;\n",
        "    std::cout << \"Menor preço total: \" << min_total << std::endl;\n",
        "    std::cout << \"Maior preço nos últimos 365 dias: \" << max_last_year << std::endl;\n",
        "    std::cout << \"Menor preço nos últimos 365 dias: \" << min_last_year << std::endl;\n",
        "\n",
        "    return 0;\n",
        "}\n"
      ],
      "metadata": {
        "colab": {
          "base_uri": "https://localhost:8080/"
        },
        "id": "2i4y0CwJuLyZ",
        "outputId": "8f6fb163-9dd6-4ac1-80d3-cedc1961e1b5"
      },
      "execution_count": 71,
      "outputs": [
        {
          "output_type": "stream",
          "name": "stdout",
          "text": [
            "Overwriting exercicio2.cu\n"
          ]
        }
      ]
    },
    {
      "cell_type": "code",
      "source": [
        "!nvcc -arch=sm_75 -std=c++14 exercicio2.cu -o exercicio2\n"
      ],
      "metadata": {
        "id": "FPAYH4t7ujQg"
      },
      "execution_count": 72,
      "outputs": []
    },
    {
      "cell_type": "code",
      "source": [
        "!./exercicio2"
      ],
      "metadata": {
        "colab": {
          "base_uri": "https://localhost:8080/"
        },
        "id": "iev4_pxKuktz",
        "outputId": "2a3ae8bc-cd7f-4273-857c-55b738b416f9"
      },
      "execution_count": 73,
      "outputs": [
        {
          "output_type": "stream",
          "name": "stdout",
          "text": [
            "Preço médio total: 1580.08\n",
            "Preço médio nos últimos 365 dias: 1615.81\n",
            "Maior preço total: 2200\n",
            "Menor preço total: 1015.24\n",
            "Maior preço nos últimos 365 dias: 2200\n",
            "Menor preço nos últimos 365 dias: 1060.5\n"
          ]
        }
      ]
    },
    {
      "cell_type": "markdown",
      "source": [
        "### Exercício 3: Transformações entre Vetores"
      ],
      "metadata": {
        "id": "2U6rCbiYwvbE"
      }
    },
    {
      "cell_type": "code",
      "source": [
        "%%writefile exercicio3.cu\n",
        "#include <thrust/device_vector.h>\n",
        "#include <thrust/host_vector.h>\n",
        "#include <thrust/transform.h>    // Para transformações ponto a ponto\n",
        "#include <thrust/reduce.h>       // Para calcular a média\n",
        "#include <iostream>\n",
        "#include <fstream>               // Para leitura do arquivo\n",
        "\n",
        "int main() {\n",
        "    int n = 3520;  // Total de registros (dias de negociação)\n",
        "    double aapl_price, msft_price;\n",
        "\n",
        "    // Criar vetores para armazenar os preços das ações da Apple e Microsoft\n",
        "    thrust::host_vector<double> aapl_host(n, 0);\n",
        "    thrust::host_vector<double> msft_host(n, 0);\n",
        "\n",
        "    // Ler os dados do arquivo stocks2.txt\n",
        "    std::ifstream infile(\"stocks2.txt\");\n",
        "    for (int i = 0; i < n; i++) {\n",
        "        char comma;  // Para ignorar a vírgula\n",
        "        infile >> aapl_price >> comma >> msft_price;\n",
        "        aapl_host[i] = aapl_price;\n",
        "        msft_host[i] = msft_price;\n",
        "    }\n",
        "    infile.close();\n",
        "\n",
        "    // Transferir os dados para a GPU\n",
        "    thrust::device_vector<double> aapl_dev = aapl_host;\n",
        "    thrust::device_vector<double> msft_dev = msft_host;\n",
        "\n",
        "    // Criar um vetor para armazenar as diferenças entre os preços\n",
        "    thrust::device_vector<double> diff_dev(n);\n",
        "\n",
        "    // Calcular a diferença ponto a ponto entre os preços da Apple e Microsoft\n",
        "    thrust::transform(aapl_dev.begin(), aapl_dev.end(), msft_dev.begin(), diff_dev.begin(), thrust::minus<double>());\n",
        "\n",
        "    // Calcular a soma das diferenças\n",
        "    double soma_diferencas = thrust::reduce(diff_dev.begin(), diff_dev.end(), 0.0);\n",
        "\n",
        "    // Calcular a média das diferenças\n",
        "    double media_diferenca = soma_diferencas / n;\n",
        "\n",
        "    // Imprimir o resultado\n",
        "    std::cout << \"A diferença média entre os preços das ações da Apple e Microsoft é: \" << media_diferenca << std::endl;\n",
        "\n",
        "    return 0;\n",
        "}\n"
      ],
      "metadata": {
        "colab": {
          "base_uri": "https://localhost:8080/"
        },
        "id": "bvTBz99gumKP",
        "outputId": "1855d898-faee-424c-ccce-11156975504d"
      },
      "execution_count": 68,
      "outputs": [
        {
          "output_type": "stream",
          "name": "stdout",
          "text": [
            "Writing exercicio3.cu\n"
          ]
        }
      ]
    },
    {
      "cell_type": "code",
      "source": [
        "!nvcc -arch=sm_75 -std=c++14 exercicio3.cu -o exercicio3\n"
      ],
      "metadata": {
        "id": "jC8RxJC0xloV"
      },
      "execution_count": 69,
      "outputs": []
    },
    {
      "cell_type": "code",
      "source": [
        "!./exercicio3\n"
      ],
      "metadata": {
        "colab": {
          "base_uri": "https://localhost:8080/"
        },
        "id": "_HiPYXmGxn5p",
        "outputId": "77fec007-42df-4b7c-af92-8da5af9b16a0"
      },
      "execution_count": 70,
      "outputs": [
        {
          "output_type": "stream",
          "name": "stdout",
          "text": [
            "A diferença média entre os preços das ações da Apple e Microsoft é: -265.232\n"
          ]
        }
      ]
    },
    {
      "cell_type": "markdown",
      "source": [
        "Microsoft teve um preço médio maior que a Apple por 265.23 unidades no período analisado."
      ],
      "metadata": {
        "id": "PldOZKVSx6y5"
      }
    },
    {
      "cell_type": "code",
      "source": [],
      "metadata": {
        "id": "Aja6K8Hvxpk2"
      },
      "execution_count": null,
      "outputs": []
    }
  ]
}