{
  "nbformat": 4,
  "nbformat_minor": 0,
  "metadata": {
    "colab": {
      "provenance": [],
      "gpuType": "T4"
    },
    "kernelspec": {
      "name": "python3",
      "display_name": "Python 3"
    },
    "language_info": {
      "name": "python"
    },
    "accelerator": "GPU"
  },
  "cells": [
    {
      "cell_type": "code",
      "execution_count": 1,
      "metadata": {
        "colab": {
          "base_uri": "https://localhost:8080/"
        },
        "id": "TaLS0lrOf9UL",
        "outputId": "ddb130e4-9cf9-421c-d885-26975afa6201"
      },
      "outputs": [
        {
          "output_type": "stream",
          "name": "stdout",
          "text": [
            "Fri Sep 20 19:35:45 2024       \n",
            "+---------------------------------------------------------------------------------------+\n",
            "| NVIDIA-SMI 535.104.05             Driver Version: 535.104.05   CUDA Version: 12.2     |\n",
            "|-----------------------------------------+----------------------+----------------------+\n",
            "| GPU  Name                 Persistence-M | Bus-Id        Disp.A | Volatile Uncorr. ECC |\n",
            "| Fan  Temp   Perf          Pwr:Usage/Cap |         Memory-Usage | GPU-Util  Compute M. |\n",
            "|                                         |                      |               MIG M. |\n",
            "|=========================================+======================+======================|\n",
            "|   0  Tesla T4                       Off | 00000000:00:04.0 Off |                    0 |\n",
            "| N/A   46C    P8              10W /  70W |      0MiB / 15360MiB |      0%      Default |\n",
            "|                                         |                      |                  N/A |\n",
            "+-----------------------------------------+----------------------+----------------------+\n",
            "                                                                                         \n",
            "+---------------------------------------------------------------------------------------+\n",
            "| Processes:                                                                            |\n",
            "|  GPU   GI   CI        PID   Type   Process name                            GPU Memory |\n",
            "|        ID   ID                                                             Usage      |\n",
            "|=======================================================================================|\n",
            "|  No running processes found                                                           |\n",
            "+---------------------------------------------------------------------------------------+\n"
          ]
        }
      ],
      "source": [
        "!nvidia-smi"
      ]
    },
    {
      "cell_type": "markdown",
      "source": [
        "### Introdução a Operações Customizadas\n",
        "\n",
        "---\n",
        "\n",
        "\n"
      ],
      "metadata": {
        "id": "x213A1X0jrKz"
      }
    },
    {
      "cell_type": "code",
      "source": [
        "%%writefile saxpy.cu\n",
        "#include <thrust/device_vector.h>\n",
        "#include <thrust/host_vector.h>\n",
        "#include <thrust/transform.h>\n",
        "#include <iostream>\n",
        "#include <cstdlib>  // Para gerar números aleatórios\n",
        "#include <chrono>   // Para medir o tempo de execução\n",
        "\n",
        "// Functor Saxpy: realiza a operação z = a * x + y\n",
        "struct saxpy\n",
        "{\n",
        "    int a;\n",
        "    saxpy(int a_) : a(a_) {}\n",
        "\n",
        "    __host__ __device__\n",
        "    double operator()(const double& x, const double& y) const {\n",
        "        return a * x + y;\n",
        "    }\n",
        "};\n",
        "\n",
        "int main() {\n",
        "    // Parâmetros\n",
        "    int N = 1000000;  // Tamanho dos vetores\n",
        "    int a = 5;        // Constante 'a' no cálculo Saxpy\n",
        "\n",
        "    // Medir tempo de execução\n",
        "    auto start = std::chrono::high_resolution_clock::now();\n",
        "\n",
        "    // Vetores de entrada na CPU (host)\n",
        "    thrust::host_vector<double> h_x(N);\n",
        "    thrust::host_vector<double> h_y(N);\n",
        "\n",
        "    // Preenche os vetores com valores aleatórios\n",
        "    for (int i = 0; i < N; i++) {\n",
        "        h_x[i] = static_cast<double>(rand()) / RAND_MAX;  // Números aleatórios entre 0 e 1\n",
        "        h_y[i] = static_cast<double>(rand()) / RAND_MAX;\n",
        "    }\n",
        "\n",
        "    // Transferir os vetores para a GPU (device)\n",
        "    thrust::device_vector<double> d_x = h_x;\n",
        "    thrust::device_vector<double> d_y = h_y;\n",
        "    thrust::device_vector<double> d_z(N);  // Vetor de saída\n",
        "\n",
        "    // Aplicar a operação Saxpy\n",
        "    thrust::transform(d_x.begin(), d_x.end(), d_y.begin(), d_z.begin(), saxpy(a));\n",
        "\n",
        "    // Transferir o resultado de volta para a CPU\n",
        "    thrust::host_vector<double> h_z = d_z;\n",
        "\n",
        "    // Medir o fim da execução\n",
        "    auto end = std::chrono::high_resolution_clock::now();\n",
        "    std::chrono::duration<double> elapsed = end - start;\n",
        "\n",
        "    // Exibir os primeiros 5 resultados para verificação\n",
        "    std::cout << \"Primeiros 5 resultados do cálculo Saxpy (a = \" << a << \"):\" << std::endl;\n",
        "    for (int i = 0; i < 5; i++) {\n",
        "        std::cout << \"z[\" << i << \"] = \" << h_z[i] << std::endl;\n",
        "    }\n",
        "\n",
        "    // Exibir o tempo de execução\n",
        "    std::cout << \"Tempo de execução: \" << elapsed.count() << \" segundos\" << std::endl;\n",
        "\n",
        "    return 0;\n",
        "}"
      ],
      "metadata": {
        "colab": {
          "base_uri": "https://localhost:8080/"
        },
        "id": "IVyscDpBgGcD",
        "outputId": "07b8e176-d8e5-4141-f0dd-9d8cd708c1c3"
      },
      "execution_count": 2,
      "outputs": [
        {
          "output_type": "stream",
          "name": "stdout",
          "text": [
            "Writing saxpy.cu\n"
          ]
        }
      ]
    },
    {
      "cell_type": "code",
      "source": [
        "!nvcc -arch=sm_75 saxpy.cu -o saxpy"
      ],
      "metadata": {
        "id": "9XV0u2vHI6by"
      },
      "execution_count": 3,
      "outputs": []
    },
    {
      "cell_type": "code",
      "source": [
        "!./saxpy"
      ],
      "metadata": {
        "colab": {
          "base_uri": "https://localhost:8080/"
        },
        "id": "IGDYIPI6Jfzi",
        "outputId": "b66a4380-406b-4b0a-9b9d-83818869cd50"
      },
      "execution_count": 4,
      "outputs": [
        {
          "output_type": "stream",
          "name": "stdout",
          "text": [
            "Primeiros 5 resultados do cálculo Saxpy (a = 5):\n",
            "z[0] = 4.59532\n",
            "z[1] = 4.71394\n",
            "z[2] = 4.75579\n",
            "z[3] = 2.44434\n",
            "z[4] = 1.94284\n",
            "Tempo de execução: 0.462703 segundos\n"
          ]
        }
      ]
    },
    {
      "cell_type": "markdown",
      "source": [
        "### Transformações Unárias e Binárias\n"
      ],
      "metadata": {
        "id": "ZzhA-ra5_gFq"
      }
    },
    {
      "cell_type": "markdown",
      "source": [
        "Implementação com CUDA/Thrust (GPU)"
      ],
      "metadata": {
        "id": "TyGbKx6Z9Ndm"
      }
    },
    {
      "cell_type": "code",
      "source": [
        "%%writefile magnitude.cu\n",
        "#include <thrust/device_vector.h>\n",
        "#include <thrust/host_vector.h>\n",
        "#include <thrust/transform_reduce.h>\n",
        "#include <thrust/functional.h>\n",
        "#include <cmath>   // Para sqrt\n",
        "#include <iostream>\n",
        "#include <cstdlib> // Para gerar números aleatórios\n",
        "#include <chrono>  // Para medir o tempo de execução\n",
        "\n",
        "// Functor para elevar ao quadrado\n",
        "struct square {\n",
        "    __host__ __device__\n",
        "    float operator()(const float& x) const {\n",
        "        return x * x;\n",
        "    }\n",
        "};\n",
        "\n",
        "// Função para calcular a magnitude de um vetor na GPU\n",
        "float magnitude_gpu(thrust::device_vector<float>& v) {\n",
        "    float sum_of_squares = thrust::transform_reduce(v.begin(), v.end(), square(), 0.0f, thrust::plus<float>());\n",
        "    return std::sqrt(sum_of_squares);\n",
        "}\n",
        "\n",
        "int main() {\n",
        "    int N = 1000000;  // Tamanho do vetor\n",
        "\n",
        "    // Medir tempo de execução na GPU\n",
        "    auto start_gpu = std::chrono::high_resolution_clock::now();\n",
        "\n",
        "    // Criar vetor na CPU e preenchê-lo com números aleatórios\n",
        "    thrust::host_vector<float> h_v(N);\n",
        "    for (int i = 0; i < N; i++) {\n",
        "        h_v[i] = static_cast<float>(rand()) / RAND_MAX;\n",
        "    }\n",
        "\n",
        "    // Transferir o vetor para a GPU\n",
        "    thrust::device_vector<float> d_v = h_v;\n",
        "\n",
        "    // Calcular a magnitude na GPU\n",
        "    float result_gpu = magnitude_gpu(d_v);\n",
        "\n",
        "    // Medir o tempo de execução na GPU\n",
        "    auto end_gpu = std::chrono::high_resolution_clock::now();\n",
        "    std::chrono::duration<double> elapsed_gpu = end_gpu - start_gpu;\n",
        "\n",
        "    // Exibir o resultado e o tempo de execução na GPU\n",
        "    std::cout << \"Magnitude calculada na GPU: \" << result_gpu << std::endl;\n",
        "    std::cout << \"Tempo de execução na GPU: \" << elapsed_gpu.count() << \" segundos\" << std::endl;\n",
        "\n",
        "    return 0;\n",
        "}\n"
      ],
      "metadata": {
        "colab": {
          "base_uri": "https://localhost:8080/"
        },
        "id": "IezcujZg88Tx",
        "outputId": "adbc411c-f04d-4a9f-cd8a-e9c9a80ebee6"
      },
      "execution_count": 23,
      "outputs": [
        {
          "output_type": "stream",
          "name": "stdout",
          "text": [
            "Overwriting magnitude.cu\n"
          ]
        }
      ]
    },
    {
      "cell_type": "markdown",
      "source": [
        "Implementação em C++ (CPU)"
      ],
      "metadata": {
        "id": "kq6pJgyX9QU9"
      }
    },
    {
      "cell_type": "code",
      "source": [
        "%%writefile magnitude_cpu.cpp\n",
        "#include <iostream>\n",
        "#include <vector>\n",
        "#include <cmath>   // Para sqrt\n",
        "#include <cstdlib> // Para gerar números aleatórios\n",
        "#include <chrono>  // Para medir o tempo de execução\n",
        "\n",
        "// Função para calcular a magnitude de um vetor na CPU\n",
        "float magnitude_cpu(const std::vector<float>& v) {\n",
        "    float sum_of_squares = 0.0f;\n",
        "    for (size_t i = 0; i < v.size(); i++) {\n",
        "        sum_of_squares += v[i] * v[i];\n",
        "    }\n",
        "    return std::sqrt(sum_of_squares);\n",
        "}\n",
        "\n",
        "int main() {\n",
        "    int N = 1000000;  // Tamanho do vetor\n",
        "\n",
        "    // Medir tempo de execução na CPU\n",
        "    auto start_cpu = std::chrono::high_resolution_clock::now();\n",
        "\n",
        "    // Criar vetor e preenchê-lo com números aleatórios\n",
        "    std::vector<float> v(N);\n",
        "    for (int i = 0; i < N; i++) {\n",
        "        v[i] = static_cast<float>(rand()) / RAND_MAX;\n",
        "    }\n",
        "\n",
        "    // Calcular a magnitude na CPU\n",
        "    float result_cpu = magnitude_cpu(v);\n",
        "\n",
        "    // Medir o tempo de execução na CPU\n",
        "    auto end_cpu = std::chrono::high_resolution_clock::now();\n",
        "    std::chrono::duration<double> elapsed_cpu = end_cpu - start_cpu;\n",
        "\n",
        "    // Exibir o resultado e o tempo de execução na CPU\n",
        "    std::cout << \"Magnitude calculada na CPU: \" << result_cpu << std::endl;\n",
        "    std::cout << \"Tempo de execução na CPU: \" << elapsed_cpu.count() << \" segundos\" << std::endl;\n",
        "\n",
        "    return 0;\n",
        "}\n"
      ],
      "metadata": {
        "colab": {
          "base_uri": "https://localhost:8080/"
        },
        "id": "vZ31p0FV9O9S",
        "outputId": "3b857947-ce1d-4b2e-f8d4-105099dd8e09"
      },
      "execution_count": 24,
      "outputs": [
        {
          "output_type": "stream",
          "name": "stdout",
          "text": [
            "Overwriting magnitude_cpu.cpp\n"
          ]
        }
      ]
    },
    {
      "cell_type": "code",
      "source": [
        "!nvcc -arch=sm_75 magnitude.cu -o magnitude_gpu"
      ],
      "metadata": {
        "id": "ordct7eh9WVZ"
      },
      "execution_count": 25,
      "outputs": []
    },
    {
      "cell_type": "code",
      "source": [
        "!g++ magnitude_cpu.cpp -o magnitude_cpu"
      ],
      "metadata": {
        "id": "_QrUsXqY9alL"
      },
      "execution_count": 26,
      "outputs": []
    },
    {
      "cell_type": "code",
      "source": [
        "!./magnitude_gpu"
      ],
      "metadata": {
        "colab": {
          "base_uri": "https://localhost:8080/"
        },
        "id": "8Cxiop7P9gGz",
        "outputId": "9897eb0b-82fc-47e6-e730-843f6cdf71c4"
      },
      "execution_count": 27,
      "outputs": [
        {
          "output_type": "stream",
          "name": "stdout",
          "text": [
            "Magnitude calculada na GPU: 577.328\n",
            "Tempo de execução na GPU: 0.305413 segundos\n"
          ]
        }
      ]
    },
    {
      "cell_type": "code",
      "source": [
        "!./magnitude_cpu"
      ],
      "metadata": {
        "colab": {
          "base_uri": "https://localhost:8080/"
        },
        "id": "5bsJQv369iV-",
        "outputId": "4fbda4fa-209e-4433-8aa5-be57ec63bbec"
      },
      "execution_count": 28,
      "outputs": [
        {
          "output_type": "stream",
          "name": "stdout",
          "text": [
            "Magnitude calculada na CPU: 577.228\n",
            "Tempo de execução na CPU: 0.037438 segundos\n"
          ]
        }
      ]
    },
    {
      "cell_type": "markdown",
      "source": [
        "### Otimização com Fusion Kernel\n"
      ],
      "metadata": {
        "id": "r7XBhXgQ_who"
      }
    },
    {
      "cell_type": "markdown",
      "source": [
        "### Implementação com Fusion Kernel (GPU)"
      ],
      "metadata": {
        "id": "0Y3px6snA5op"
      }
    },
    {
      "cell_type": "code",
      "source": [
        "%%writefile variance_fusion.cu\n",
        "#include <thrust/device_vector.h>\n",
        "#include <thrust/transform_reduce.h>\n",
        "#include <thrust/functional.h>\n",
        "#include <thrust/host_vector.h>   // Corrigido: Inclui o cabeçalho correto para host_vector\n",
        "#include <iostream>\n",
        "#include <cmath>   // Para sqrt\n",
        "#include <cstdlib> // Para gerar números aleatórios\n",
        "#include <chrono>  // Para medir o tempo de execução\n",
        "\n",
        "// Functor para calcular a diferença ao quadrado\n",
        "struct variance_op {\n",
        "    float mean;\n",
        "    variance_op(float mean_) : mean(mean_) {}\n",
        "\n",
        "    __host__ __device__\n",
        "    float operator()(const float& x) const {\n",
        "        float diff = x - mean;\n",
        "        return diff * diff;\n",
        "    }\n",
        "};\n",
        "\n",
        "// Função para calcular a variância com Fusion Kernel\n",
        "float calculate_variance_fusion(const thrust::device_vector<float>& d_vec, float mean) {\n",
        "    return thrust::transform_reduce(d_vec.begin(), d_vec.end(), variance_op(mean), 0.0f, thrust::plus<float>()) / d_vec.size();\n",
        "}\n",
        "\n",
        "int main() {\n",
        "    int N = 1000000;  // Tamanho do vetor\n",
        "\n",
        "    // Criar vetor na CPU e preenchê-lo com números aleatórios\n",
        "    thrust::host_vector<float> h_vec(N);  // Agora corretamente utilizando thrust::host_vector\n",
        "    for (int i = 0; i < N; i++) {\n",
        "        h_vec[i] = static_cast<float>(rand()) / RAND_MAX;\n",
        "    }\n",
        "\n",
        "    // Transferir o vetor para a GPU\n",
        "    thrust::device_vector<float> d_vec = h_vec;\n",
        "\n",
        "    // Calcular a média primeiro\n",
        "    float sum = thrust::reduce(d_vec.begin(), d_vec.end(), 0.0f, thrust::plus<float>());\n",
        "    float mean = sum / N;\n",
        "\n",
        "    // Medir tempo de execução para o cálculo da variância com Fusion Kernel\n",
        "    auto start_fusion = std::chrono::high_resolution_clock::now();\n",
        "\n",
        "    // Calcular a variância usando Fusion Kernel\n",
        "    float variance_fusion = calculate_variance_fusion(d_vec, mean);\n",
        "\n",
        "    // Medir o tempo de execução\n",
        "    auto end_fusion = std::chrono::high_resolution_clock::now();\n",
        "    std::chrono::duration<double> elapsed_fusion = end_fusion - start_fusion;\n",
        "\n",
        "    // Exibir o resultado da variância e o tempo de execução\n",
        "    std::cout << \"Variância calculada com Fusion Kernel: \" << variance_fusion << std::endl;\n",
        "    std::cout << \"Tempo de execução (Fusion Kernel): \" << elapsed_fusion.count() << \" segundos\" << std::endl;\n",
        "\n",
        "    return 0;\n",
        "}\n"
      ],
      "metadata": {
        "colab": {
          "base_uri": "https://localhost:8080/"
        },
        "id": "ONQs4zaG9j32",
        "outputId": "cfa81bc2-82f8-4b99-87bd-5537b347229f"
      },
      "execution_count": 36,
      "outputs": [
        {
          "output_type": "stream",
          "name": "stdout",
          "text": [
            "Overwriting variance_fusion.cu\n"
          ]
        }
      ]
    },
    {
      "cell_type": "code",
      "source": [
        "!nvcc -arch=sm_75 variance_fusion.cu -o variance_fusion"
      ],
      "metadata": {
        "id": "TnNlICBQA-AX"
      },
      "execution_count": 37,
      "outputs": []
    },
    {
      "cell_type": "code",
      "source": [
        "!./variance_fusion"
      ],
      "metadata": {
        "colab": {
          "base_uri": "https://localhost:8080/"
        },
        "id": "KJwBSjQLBGwN",
        "outputId": "98ef67d1-faea-45ea-98f9-d722bd82483d"
      },
      "execution_count": 38,
      "outputs": [
        {
          "output_type": "stream",
          "name": "stdout",
          "text": [
            "Variância calculada com Fusion Kernel: 0.0833013\n",
            "Tempo de execução (Fusion Kernel): 0.000406248 segundos\n"
          ]
        }
      ]
    },
    {
      "cell_type": "code",
      "source": [
        "%%writefile variance_no_fusion.cu\n",
        "#include <thrust/device_vector.h>\n",
        "#include <thrust/transform.h>       // Para thrust::transform\n",
        "#include <thrust/reduce.h>          // Para thrust::reduce\n",
        "#include <thrust/host_vector.h>      // Inclui o cabeçalho correto para host_vector\n",
        "#include <iostream>\n",
        "#include <cmath>   // Para sqrt\n",
        "#include <cstdlib> // Para gerar números aleatórios\n",
        "#include <chrono>  // Para medir o tempo de execução\n",
        "\n",
        "// Functor para calcular a diferença ao quadrado\n",
        "struct square_diff {\n",
        "    float mean;\n",
        "    square_diff(float mean_) : mean(mean_) {}\n",
        "\n",
        "    __host__ __device__\n",
        "    float operator()(const float& x) const {\n",
        "        float diff = x - mean;\n",
        "        return diff * diff;\n",
        "    }\n",
        "};\n",
        "\n",
        "// Função para calcular a variância sem Fusion Kernel\n",
        "float calculate_variance_no_fusion(const thrust::device_vector<float>& d_vec, float mean) {\n",
        "    // Etapa 1: Calcular a soma das diferenças ao quadrado\n",
        "    thrust::device_vector<float> d_diff(d_vec.size());\n",
        "    thrust::transform(d_vec.begin(), d_vec.end(), d_diff.begin(), square_diff(mean));\n",
        "\n",
        "    // Etapa 2: Reduzir a soma das diferenças ao quadrado\n",
        "    float sum_of_squares = thrust::reduce(d_diff.begin(), d_diff.end(), 0.0f, thrust::plus<float>());\n",
        "    return sum_of_squares / d_vec.size();\n",
        "}\n",
        "\n",
        "int main() {\n",
        "    int N = 1000000;  // Tamanho do vetor\n",
        "\n",
        "    // Criar vetor na CPU e preenchê-lo com números aleatórios\n",
        "    thrust::host_vector<float> h_vec(N);  // Corrigido: Inclui host_vector corretamente\n",
        "    for (int i = 0; i < N; i++) {\n",
        "        h_vec[i] = static_cast<float>(rand()) / RAND_MAX;\n",
        "    }\n",
        "\n",
        "    // Transferir o vetor para a GPU\n",
        "    thrust::device_vector<float> d_vec = h_vec;\n",
        "\n",
        "    // Calcular a média primeiro\n",
        "    float sum = thrust::reduce(d_vec.begin(), d_vec.end(), 0.0f, thrust::plus<float>());\n",
        "    float mean = sum / N;\n",
        "\n",
        "    // Medir tempo de execução para o cálculo da variância sem Fusion Kernel\n",
        "    auto start_no_fusion = std::chrono::high_resolution_clock::now();\n",
        "\n",
        "    // Calcular a variância sem Fusion Kernel\n",
        "    float variance_no_fusion = calculate_variance_no_fusion(d_vec, mean);\n",
        "\n",
        "    // Medir o tempo de execução\n",
        "    auto end_no_fusion = std::chrono::high_resolution_clock::now();\n",
        "    std::chrono::duration<double> elapsed_no_fusion = end_no_fusion - start_no_fusion;\n",
        "\n",
        "    // Exibir o resultado da variância e o tempo de execução\n",
        "    std::cout << \"Variância calculada sem Fusion Kernel: \" << variance_no_fusion << std::endl;\n",
        "    std::cout << \"Tempo de execução (sem Fusion Kernel): \" << elapsed_no_fusion.count() << \" segundos\" << std::endl;\n",
        "\n",
        "    return 0;\n",
        "}\n"
      ],
      "metadata": {
        "colab": {
          "base_uri": "https://localhost:8080/"
        },
        "id": "kU-dbVzmBHCp",
        "outputId": "82d45ffd-3513-460a-b390-1c53a1ab8795"
      },
      "execution_count": 39,
      "outputs": [
        {
          "output_type": "stream",
          "name": "stdout",
          "text": [
            "Overwriting variance_no_fusion.cu\n"
          ]
        }
      ]
    },
    {
      "cell_type": "code",
      "source": [
        "!nvcc -arch=sm_75 variance_no_fusion.cu -o variance_no_fusion"
      ],
      "metadata": {
        "id": "GZQdPldLBNCv"
      },
      "execution_count": 40,
      "outputs": []
    },
    {
      "cell_type": "code",
      "source": [
        "!./variance_no_fusion"
      ],
      "metadata": {
        "colab": {
          "base_uri": "https://localhost:8080/"
        },
        "id": "jXzkdSS6BOks",
        "outputId": "b014289b-f273-4334-c922-8ad25341e27e"
      },
      "execution_count": 41,
      "outputs": [
        {
          "output_type": "stream",
          "name": "stdout",
          "text": [
            "Variância calculada sem Fusion Kernel: 0.0833013\n",
            "Tempo de execução (sem Fusion Kernel): 0.000689659 segundos\n"
          ]
        }
      ]
    },
    {
      "cell_type": "code",
      "source": [],
      "metadata": {
        "id": "Q8r6aztSBOye"
      },
      "execution_count": null,
      "outputs": []
    }
  ]
}